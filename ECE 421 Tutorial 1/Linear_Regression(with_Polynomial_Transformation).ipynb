{
  "nbformat": 4,
  "nbformat_minor": 0,
  "metadata": {
    "colab": {
      "provenance": []
    },
    "kernelspec": {
      "name": "python3",
      "display_name": "Python 3"
    },
    "language_info": {
      "name": "python"
    }
  },
  "cells": [
    {
      "cell_type": "code",
      "execution_count": null,
      "metadata": {
        "id": "rV45VNM9DCEl"
      },
      "outputs": [],
      "source": [
        "import numpy as np\n",
        "from sklearn.model_selection import train_test_split\n",
        "from sklearn import linear_model\n",
        "from sklearn.metrics import mean_squared_error\n",
        "import sklearn.datasets as datasets\n",
        "\n",
        "\n",
        "from sklearn.preprocessing import PolynomialFeatures\n",
        "\n",
        "# Cross-Validation tools\n",
        "from sklearn.model_selection import GridSearchCV\n",
        "from sklearn.preprocessing import StandardScaler"
      ]
    },
    {
      "cell_type": "markdown",
      "source": [
        "# Housing Dataset Loading"
      ],
      "metadata": {
        "id": "DvTab_KEFmuH"
      }
    },
    {
      "cell_type": "code",
      "source": [
        "import sklearn.datasets as datasets\n",
        "\n",
        "chd = datasets.fetch_california_housing() "
      ],
      "metadata": {
        "id": "2JPHcEi3FsIB"
      },
      "execution_count": null,
      "outputs": []
    },
    {
      "cell_type": "code",
      "source": [
        "print ('Explore the dataset:')\n",
        "for key in chd.keys():\n",
        "  print ('Field: ', key)\n",
        "  print (chd[key])"
      ],
      "metadata": {
        "colab": {
          "base_uri": "https://localhost:8080/"
        },
        "id": "dQVO3JCpGbSg",
        "outputId": "25edc887-7337-4506-d89e-fa55900d7d21"
      },
      "execution_count": null,
      "outputs": [
        {
          "output_type": "stream",
          "name": "stdout",
          "text": [
            "Explore the dataset:\n",
            "Field:  data\n",
            "[[   8.3252       41.            6.98412698 ...    2.55555556\n",
            "    37.88       -122.23      ]\n",
            " [   8.3014       21.            6.23813708 ...    2.10984183\n",
            "    37.86       -122.22      ]\n",
            " [   7.2574       52.            8.28813559 ...    2.80225989\n",
            "    37.85       -122.24      ]\n",
            " ...\n",
            " [   1.7          17.            5.20554273 ...    2.3256351\n",
            "    39.43       -121.22      ]\n",
            " [   1.8672       18.            5.32951289 ...    2.12320917\n",
            "    39.43       -121.32      ]\n",
            " [   2.3886       16.            5.25471698 ...    2.61698113\n",
            "    39.37       -121.24      ]]\n",
            "Field:  target\n",
            "[4.526 3.585 3.521 ... 0.923 0.847 0.894]\n",
            "Field:  frame\n",
            "None\n",
            "Field:  target_names\n",
            "['MedHouseVal']\n",
            "Field:  feature_names\n",
            "['MedInc', 'HouseAge', 'AveRooms', 'AveBedrms', 'Population', 'AveOccup', 'Latitude', 'Longitude']\n",
            "Field:  DESCR\n",
            ".. _california_housing_dataset:\n",
            "\n",
            "California Housing dataset\n",
            "--------------------------\n",
            "\n",
            "**Data Set Characteristics:**\n",
            "\n",
            "    :Number of Instances: 20640\n",
            "\n",
            "    :Number of Attributes: 8 numeric, predictive attributes and the target\n",
            "\n",
            "    :Attribute Information:\n",
            "        - MedInc        median income in block group\n",
            "        - HouseAge      median house age in block group\n",
            "        - AveRooms      average number of rooms per household\n",
            "        - AveBedrms     average number of bedrooms per household\n",
            "        - Population    block group population\n",
            "        - AveOccup      average number of household members\n",
            "        - Latitude      block group latitude\n",
            "        - Longitude     block group longitude\n",
            "\n",
            "    :Missing Attribute Values: None\n",
            "\n",
            "This dataset was obtained from the StatLib repository.\n",
            "https://www.dcc.fc.up.pt/~ltorgo/Regression/cal_housing.html\n",
            "\n",
            "The target variable is the median house value for California districts,\n",
            "expressed in hundreds of thousands of dollars ($100,000).\n",
            "\n",
            "This dataset was derived from the 1990 U.S. census, using one row per census\n",
            "block group. A block group is the smallest geographical unit for which the U.S.\n",
            "Census Bureau publishes sample data (a block group typically has a population\n",
            "of 600 to 3,000 people).\n",
            "\n",
            "An household is a group of people residing within a home. Since the average\n",
            "number of rooms and bedrooms in this dataset are provided per household, these\n",
            "columns may take surpinsingly large values for block groups with few households\n",
            "and many empty houses, such as vacation resorts.\n",
            "\n",
            "It can be downloaded/loaded using the\n",
            ":func:`sklearn.datasets.fetch_california_housing` function.\n",
            "\n",
            ".. topic:: References\n",
            "\n",
            "    - Pace, R. Kelley and Ronald Barry, Sparse Spatial Autoregressions,\n",
            "      Statistics and Probability Letters, 33 (1997) 291-297\n",
            "\n"
          ]
        }
      ]
    },
    {
      "cell_type": "markdown",
      "source": [
        "#Linear Regression with Scikit-Learn"
      ],
      "metadata": {
        "id": "txAcMZWhFFhh"
      }
    },
    {
      "cell_type": "code",
      "source": [
        "\"\"\"\n",
        "Split the dataset into training and test set. \n",
        "In practice, you will not have access to the test set labels. \n",
        "You have to finetune your hyperparams within the training set.\n",
        "\"\"\"\n",
        "X_train, X_test, y_train, y_test = train_test_split(chd.data,chd.target,test_size=0.1, random_state=1)\n",
        "\n",
        "\"\"\"\n",
        "Load the Linear Regression Model\n",
        "The function fit(X_train, y_train) trains the models \n",
        "\"\"\"\n",
        "LR = linear_model.LinearRegression()\n",
        "LR.fit(X_train, y_train) #Train the model\n",
        "\n",
        "print ('Weights after training: ', LR.coef_)\n",
        "print ('Bias after training: ', LR.intercept_)\n",
        "\n",
        "\n",
        "\n",
        "# Evaluate the mean-squared-error on the test set.\n",
        "print ('Linear regression Train MSE error: ', mean_squared_error(LR.predict(X_train), y_train))\n",
        "print ('Linear regression Test MSE error: ', mean_squared_error(LR.predict(X_test), y_test))"
      ],
      "metadata": {
        "colab": {
          "base_uri": "https://localhost:8080/"
        },
        "id": "GAO4VwMwFKp5",
        "outputId": "597e42cb-154d-4383-b7c3-4f1def3567df"
      },
      "execution_count": null,
      "outputs": [
        {
          "output_type": "stream",
          "name": "stdout",
          "text": [
            "Weights after training:  [ 4.37733780e-01  9.53253650e-03 -1.08493647e-01  6.48451190e-01\n",
            " -4.59029268e-06 -3.59055200e-03 -4.23228504e-01 -4.37158591e-01]\n",
            "Bias after training:  -37.1940870363519\n",
            "Linear regression Train MSE error:  0.5229488752694601\n",
            "Linear regression Test MSE error:  0.5368479730539837\n"
          ]
        }
      ]
    },
    {
      "cell_type": "markdown",
      "source": [
        "# (Optional) Linear Regression with Polynomial Feature Transformation and L2 Regularization\n",
        "\n",
        "From scikit-learn (https://scikit-learn.org/stable/modules/generated/sklearn.preprocessing.PolynomialFeatures.html): \n",
        "\n",
        "\"PolynomialFeatures: Generate a new feature matrix consisting of all polynomial combinations of the features with degree less than or equal to the specified degree. For example, if an input sample is two dimensional and of the form [a, b], the degree-2 polynomial features are [1, a, b, a^2, ab, b^2].\"\n",
        "\n",
        "This function is useful when you the relationship between your input features and output labels is non-linear.\n",
        " "
      ],
      "metadata": {
        "id": "W_Fs56DS9t0Y"
      }
    },
    {
      "cell_type": "code",
      "source": [
        "#Load our preprocessing functions\n",
        "scaler = StandardScaler()\n",
        "chd = datasets.fetch_california_housing()\n",
        "feature_trf = PolynomialFeatures(2) \n",
        "\n",
        "N_compare = 50\n",
        "non_linear_wins = 0\n",
        "print ('----------------Comparing Linear Regression vs Linear Regression with Feature Transformation------------------')\n",
        "for i in range(50):\n",
        "  X_train, X_test, y_train, y_test = train_test_split(chd.data,chd.target,test_size=0.1)\n",
        "  X_train = scaler.fit_transform(X_train)\n",
        "  X_test = scaler.transform(X_test)\n",
        "\n",
        "  ridge_params = {'alpha':[1, 10, 100, 1000, 10000, 100000, 1000000]}\n",
        "  NLR = GridSearchCV(linear_model.Ridge(), param_grid=ridge_params).fit(feature_trf.fit_transform( X_train), y_train).best_estimator_\n",
        "  NLR = linear_model.Ridge(alpha=NLR.alpha).fit(feature_trf.fit_transform( X_train), y_train)\n",
        "  LR = linear_model.LinearRegression().fit(X_train, y_train)\n",
        "\n",
        "  lr_err = mean_squared_error(LR.predict(X_test), y_test)\n",
        "  nlr_err = mean_squared_error(NLR.predict(feature_trf.transform( X_test)), y_test)\n",
        "  print ('Linear regression MSE error: ', lr_err )\n",
        "  print ('Nonlinear regression MSE error: ', nlr_err)\n",
        "  \n",
        "  \n",
        "  if nlr_err < lr_err:\n",
        "    non_linear_wins +=1\n",
        "  print ('----------------------------------------------------------------------------------------------------------------')"
      ],
      "metadata": {
        "colab": {
          "base_uri": "https://localhost:8080/"
        },
        "id": "AZsiR8Z-DS_y",
        "outputId": "b5da0e65-9616-4331-ae70-538b0257e080"
      },
      "execution_count": null,
      "outputs": [
        {
          "output_type": "stream",
          "name": "stdout",
          "text": [
            "----------------Comparing Linear Regression vs Linear Regression with Feature Transformation------------------\n",
            "Linear regression MSE error:  0.4904271033535111\n",
            "Nonlinear regression MSE error:  0.39373065206744484\n",
            "----------------------------------------------------------------------------------------------------------------\n",
            "Linear regression MSE error:  0.5325660613715891\n",
            "Nonlinear regression MSE error:  0.5066057839074886\n",
            "----------------------------------------------------------------------------------------------------------------\n",
            "Linear regression MSE error:  0.5231823209067591\n",
            "Nonlinear regression MSE error:  0.4405909108004551\n",
            "----------------------------------------------------------------------------------------------------------------\n",
            "Linear regression MSE error:  0.5180814398233858\n",
            "Nonlinear regression MSE error:  0.5296826496699174\n",
            "----------------------------------------------------------------------------------------------------------------\n",
            "Linear regression MSE error:  0.5351513893111991\n",
            "Nonlinear regression MSE error:  0.4463817213476981\n",
            "----------------------------------------------------------------------------------------------------------------\n",
            "Linear regression MSE error:  0.5021200043755029\n",
            "Nonlinear regression MSE error:  0.5066520066955893\n",
            "----------------------------------------------------------------------------------------------------------------\n",
            "Linear regression MSE error:  0.5804027159036025\n",
            "Nonlinear regression MSE error:  0.5559981371246536\n",
            "----------------------------------------------------------------------------------------------------------------\n",
            "Linear regression MSE error:  0.5142228142877464\n",
            "Nonlinear regression MSE error:  0.44642692825543256\n",
            "----------------------------------------------------------------------------------------------------------------\n",
            "Linear regression MSE error:  0.5427118098885355\n",
            "Nonlinear regression MSE error:  0.7108853478648642\n",
            "----------------------------------------------------------------------------------------------------------------\n",
            "Linear regression MSE error:  0.5048654410604562\n",
            "Nonlinear regression MSE error:  0.41038301464062704\n",
            "----------------------------------------------------------------------------------------------------------------\n",
            "Linear regression MSE error:  0.5019512919258108\n",
            "Nonlinear regression MSE error:  0.4018508499987433\n",
            "----------------------------------------------------------------------------------------------------------------\n",
            "Linear regression MSE error:  0.5216161732865797\n",
            "Nonlinear regression MSE error:  0.42632857000626223\n",
            "----------------------------------------------------------------------------------------------------------------\n",
            "Linear regression MSE error:  0.5157825096372404\n",
            "Nonlinear regression MSE error:  0.5013175060731064\n",
            "----------------------------------------------------------------------------------------------------------------\n",
            "Linear regression MSE error:  0.5887265755760307\n",
            "Nonlinear regression MSE error:  399.62425753829035\n",
            "----------------------------------------------------------------------------------------------------------------\n",
            "Linear regression MSE error:  0.5165159830373827\n",
            "Nonlinear regression MSE error:  0.42723161471112236\n",
            "----------------------------------------------------------------------------------------------------------------\n",
            "Linear regression MSE error:  0.5534388461539786\n",
            "Nonlinear regression MSE error:  0.5816549153068641\n",
            "----------------------------------------------------------------------------------------------------------------\n",
            "Linear regression MSE error:  0.5300657960128413\n",
            "Nonlinear regression MSE error:  0.4451796175368918\n",
            "----------------------------------------------------------------------------------------------------------------\n",
            "Linear regression MSE error:  0.5065857670179781\n",
            "Nonlinear regression MSE error:  0.5005037678884148\n",
            "----------------------------------------------------------------------------------------------------------------\n",
            "Linear regression MSE error:  0.5260874184886235\n",
            "Nonlinear regression MSE error:  0.5116195161835634\n",
            "----------------------------------------------------------------------------------------------------------------\n",
            "Linear regression MSE error:  0.5299986293024516\n",
            "Nonlinear regression MSE error:  0.5461966493317735\n",
            "----------------------------------------------------------------------------------------------------------------\n",
            "Linear regression MSE error:  0.5381975058352483\n",
            "Nonlinear regression MSE error:  0.43400895319648236\n",
            "----------------------------------------------------------------------------------------------------------------\n",
            "Linear regression MSE error:  0.5444664228227993\n",
            "Nonlinear regression MSE error:  0.45623103934329545\n",
            "----------------------------------------------------------------------------------------------------------------\n",
            "Linear regression MSE error:  0.5087519143847055\n",
            "Nonlinear regression MSE error:  0.42293677140571134\n",
            "----------------------------------------------------------------------------------------------------------------\n",
            "Linear regression MSE error:  0.5311021615361506\n",
            "Nonlinear regression MSE error:  0.44743571084475975\n",
            "----------------------------------------------------------------------------------------------------------------\n",
            "Linear regression MSE error:  0.5003148279748767\n",
            "Nonlinear regression MSE error:  0.4922596143605491\n",
            "----------------------------------------------------------------------------------------------------------------\n",
            "Linear regression MSE error:  0.49660173583052447\n",
            "Nonlinear regression MSE error:  0.5341554401947755\n",
            "----------------------------------------------------------------------------------------------------------------\n",
            "Linear regression MSE error:  0.5579560302266441\n",
            "Nonlinear regression MSE error:  0.46353641747368013\n",
            "----------------------------------------------------------------------------------------------------------------\n",
            "Linear regression MSE error:  0.521634026796199\n",
            "Nonlinear regression MSE error:  0.5652675164885237\n",
            "----------------------------------------------------------------------------------------------------------------\n",
            "Linear regression MSE error:  0.5557969833880826\n",
            "Nonlinear regression MSE error:  0.460160821674124\n",
            "----------------------------------------------------------------------------------------------------------------\n",
            "Linear regression MSE error:  0.5457224023563986\n",
            "Nonlinear regression MSE error:  0.5269945103224316\n",
            "----------------------------------------------------------------------------------------------------------------\n",
            "Linear regression MSE error:  0.522501233558986\n",
            "Nonlinear regression MSE error:  0.5070950638472159\n",
            "----------------------------------------------------------------------------------------------------------------\n",
            "Linear regression MSE error:  0.5257086565781866\n",
            "Nonlinear regression MSE error:  0.5082008705272452\n",
            "----------------------------------------------------------------------------------------------------------------\n",
            "Linear regression MSE error:  0.5898995611149727\n",
            "Nonlinear regression MSE error:  357.3146641258059\n",
            "----------------------------------------------------------------------------------------------------------------\n",
            "Linear regression MSE error:  0.540896685473855\n",
            "Nonlinear regression MSE error:  0.47769055343425354\n",
            "----------------------------------------------------------------------------------------------------------------\n",
            "Linear regression MSE error:  0.5209578498538482\n",
            "Nonlinear regression MSE error:  0.43484744934345787\n",
            "----------------------------------------------------------------------------------------------------------------\n",
            "Linear regression MSE error:  0.5198866516804235\n",
            "Nonlinear regression MSE error:  0.4347080373973386\n",
            "----------------------------------------------------------------------------------------------------------------\n",
            "Linear regression MSE error:  0.5062058792397094\n",
            "Nonlinear regression MSE error:  0.4243294410585849\n",
            "----------------------------------------------------------------------------------------------------------------\n",
            "Linear regression MSE error:  0.4992000959012587\n",
            "Nonlinear regression MSE error:  0.4790724046999887\n",
            "----------------------------------------------------------------------------------------------------------------\n",
            "Linear regression MSE error:  0.4916825655541804\n",
            "Nonlinear regression MSE error:  0.6904697613774463\n",
            "----------------------------------------------------------------------------------------------------------------\n",
            "Linear regression MSE error:  0.5378879187128488\n",
            "Nonlinear regression MSE error:  0.4113367770893449\n",
            "----------------------------------------------------------------------------------------------------------------\n",
            "Linear regression MSE error:  0.531883235788751\n",
            "Nonlinear regression MSE error:  0.43224585495648765\n",
            "----------------------------------------------------------------------------------------------------------------\n",
            "Linear regression MSE error:  0.514411247704577\n",
            "Nonlinear regression MSE error:  0.5272847220053515\n",
            "----------------------------------------------------------------------------------------------------------------\n",
            "Linear regression MSE error:  0.5148077985813448\n",
            "Nonlinear regression MSE error:  0.5014139640170904\n",
            "----------------------------------------------------------------------------------------------------------------\n",
            "Linear regression MSE error:  0.4792164651839182\n",
            "Nonlinear regression MSE error:  0.6662263153023416\n",
            "----------------------------------------------------------------------------------------------------------------\n",
            "Linear regression MSE error:  0.5194588622849584\n",
            "Nonlinear regression MSE error:  0.427243489828291\n",
            "----------------------------------------------------------------------------------------------------------------\n",
            "Linear regression MSE error:  0.5832605716577695\n",
            "Nonlinear regression MSE error:  0.6183199256095321\n",
            "----------------------------------------------------------------------------------------------------------------\n",
            "Linear regression MSE error:  0.5266882262186274\n",
            "Nonlinear regression MSE error:  0.5186202765512695\n",
            "----------------------------------------------------------------------------------------------------------------\n",
            "Linear regression MSE error:  0.5650020760882004\n",
            "Nonlinear regression MSE error:  0.570521804302568\n",
            "----------------------------------------------------------------------------------------------------------------\n",
            "Linear regression MSE error:  0.5234077214282074\n",
            "Nonlinear regression MSE error:  0.5077670146544419\n",
            "----------------------------------------------------------------------------------------------------------------\n",
            "Linear regression MSE error:  0.5652255861737255\n",
            "Nonlinear regression MSE error:  0.4482916677580066\n",
            "----------------------------------------------------------------------------------------------------------------\n"
          ]
        }
      ]
    },
    {
      "cell_type": "code",
      "source": [
        "print ('% of times Polynomial Feature wins:', non_linear_wins*100/N_compare, '%')"
      ],
      "metadata": {
        "colab": {
          "base_uri": "https://localhost:8080/"
        },
        "id": "mf4xPHqnTfY3",
        "outputId": "cae43f94-1116-473b-e9c3-45384ad83f34"
      },
      "execution_count": null,
      "outputs": [
        {
          "output_type": "stream",
          "name": "stdout",
          "text": [
            "% of times Polynomial Feature wins: 72.0 %\n"
          ]
        }
      ]
    },
    {
      "cell_type": "code",
      "source": [],
      "metadata": {
        "id": "t0fSUaeeEBS2"
      },
      "execution_count": null,
      "outputs": []
    }
  ]
}